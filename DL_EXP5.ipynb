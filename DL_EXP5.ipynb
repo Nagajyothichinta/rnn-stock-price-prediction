{
  "nbformat": 4,
  "nbformat_minor": 0,
  "metadata": {
    "colab": {
      "provenance": []
    },
    "kernelspec": {
      "name": "python3",
      "display_name": "Python 3"
    },
    "language_info": {
      "name": "python"
    }
  },
  "cells": [
    {
      "cell_type": "code",
      "execution_count": 1,
      "metadata": {
        "id": "5W9UcPtDdz-R"
      },
      "outputs": [],
      "source": [
        "import numpy as np\n",
        "import matplotlib.pyplot as plt\n",
        "import pandas as pd\n",
        "from sklearn.preprocessing import MinMaxScaler\n",
        "from keras import layers\n",
        "from keras.models import Sequential"
      ]
    },
    {
      "cell_type": "code",
      "source": [
        "dataset_train = pd.read_csv('trainset.csv')"
      ],
      "metadata": {
        "id": "53BAuYiKelAc"
      },
      "execution_count": 3,
      "outputs": []
    },
    {
      "cell_type": "code",
      "source": [
        "dataset_train.columns"
      ],
      "metadata": {
        "colab": {
          "base_uri": "https://localhost:8080/"
        },
        "id": "RRlbqLv4e1pd",
        "outputId": "57868b10-17f0-4c9f-ca6d-346f22005375"
      },
      "execution_count": 4,
      "outputs": [
        {
          "output_type": "execute_result",
          "data": {
            "text/plain": [
              "Index(['Date', 'Open', 'High', 'Low', 'Close', 'Adj Close', 'Volume'], dtype='object')"
            ]
          },
          "metadata": {},
          "execution_count": 4
        }
      ]
    },
    {
      "cell_type": "code",
      "source": [
        "dataset_train.head()"
      ],
      "metadata": {
        "colab": {
          "base_uri": "https://localhost:8080/",
          "height": 206
        },
        "id": "hM3tFUOee64S",
        "outputId": "7735d760-fb54-48c4-e219-7a64338aedd2"
      },
      "execution_count": 5,
      "outputs": [
        {
          "output_type": "execute_result",
          "data": {
            "text/plain": [
              "         Date        Open        High         Low       Close   Adj Close  \\\n",
              "0  2013-01-02  357.385559  361.151062  355.959839  359.288177  359.288177   \n",
              "1  2013-01-03  360.122742  363.600128  358.031342  359.496826  359.496826   \n",
              "2  2013-01-04  362.313507  368.339294  361.488861  366.600616  366.600616   \n",
              "3  2013-01-07  365.348755  367.301056  362.929504  365.001007  365.001007   \n",
              "4  2013-01-08  365.393463  365.771027  359.874359  364.280701  364.280701   \n",
              "\n",
              "    Volume  \n",
              "0  5115500  \n",
              "1  4666500  \n",
              "2  5562800  \n",
              "3  3332900  \n",
              "4  3373900  "
            ],
            "text/html": [
              "\n",
              "  <div id=\"df-5bb45426-a8f5-48d0-8f43-ae1e6ec17914\" class=\"colab-df-container\">\n",
              "    <div>\n",
              "<style scoped>\n",
              "    .dataframe tbody tr th:only-of-type {\n",
              "        vertical-align: middle;\n",
              "    }\n",
              "\n",
              "    .dataframe tbody tr th {\n",
              "        vertical-align: top;\n",
              "    }\n",
              "\n",
              "    .dataframe thead th {\n",
              "        text-align: right;\n",
              "    }\n",
              "</style>\n",
              "<table border=\"1\" class=\"dataframe\">\n",
              "  <thead>\n",
              "    <tr style=\"text-align: right;\">\n",
              "      <th></th>\n",
              "      <th>Date</th>\n",
              "      <th>Open</th>\n",
              "      <th>High</th>\n",
              "      <th>Low</th>\n",
              "      <th>Close</th>\n",
              "      <th>Adj Close</th>\n",
              "      <th>Volume</th>\n",
              "    </tr>\n",
              "  </thead>\n",
              "  <tbody>\n",
              "    <tr>\n",
              "      <th>0</th>\n",
              "      <td>2013-01-02</td>\n",
              "      <td>357.385559</td>\n",
              "      <td>361.151062</td>\n",
              "      <td>355.959839</td>\n",
              "      <td>359.288177</td>\n",
              "      <td>359.288177</td>\n",
              "      <td>5115500</td>\n",
              "    </tr>\n",
              "    <tr>\n",
              "      <th>1</th>\n",
              "      <td>2013-01-03</td>\n",
              "      <td>360.122742</td>\n",
              "      <td>363.600128</td>\n",
              "      <td>358.031342</td>\n",
              "      <td>359.496826</td>\n",
              "      <td>359.496826</td>\n",
              "      <td>4666500</td>\n",
              "    </tr>\n",
              "    <tr>\n",
              "      <th>2</th>\n",
              "      <td>2013-01-04</td>\n",
              "      <td>362.313507</td>\n",
              "      <td>368.339294</td>\n",
              "      <td>361.488861</td>\n",
              "      <td>366.600616</td>\n",
              "      <td>366.600616</td>\n",
              "      <td>5562800</td>\n",
              "    </tr>\n",
              "    <tr>\n",
              "      <th>3</th>\n",
              "      <td>2013-01-07</td>\n",
              "      <td>365.348755</td>\n",
              "      <td>367.301056</td>\n",
              "      <td>362.929504</td>\n",
              "      <td>365.001007</td>\n",
              "      <td>365.001007</td>\n",
              "      <td>3332900</td>\n",
              "    </tr>\n",
              "    <tr>\n",
              "      <th>4</th>\n",
              "      <td>2013-01-08</td>\n",
              "      <td>365.393463</td>\n",
              "      <td>365.771027</td>\n",
              "      <td>359.874359</td>\n",
              "      <td>364.280701</td>\n",
              "      <td>364.280701</td>\n",
              "      <td>3373900</td>\n",
              "    </tr>\n",
              "  </tbody>\n",
              "</table>\n",
              "</div>\n",
              "    <div class=\"colab-df-buttons\">\n",
              "\n",
              "  <div class=\"colab-df-container\">\n",
              "    <button class=\"colab-df-convert\" onclick=\"convertToInteractive('df-5bb45426-a8f5-48d0-8f43-ae1e6ec17914')\"\n",
              "            title=\"Convert this dataframe to an interactive table.\"\n",
              "            style=\"display:none;\">\n",
              "\n",
              "  <svg xmlns=\"http://www.w3.org/2000/svg\" height=\"24px\" viewBox=\"0 -960 960 960\">\n",
              "    <path d=\"M120-120v-720h720v720H120Zm60-500h600v-160H180v160Zm220 220h160v-160H400v160Zm0 220h160v-160H400v160ZM180-400h160v-160H180v160Zm440 0h160v-160H620v160ZM180-180h160v-160H180v160Zm440 0h160v-160H620v160Z\"/>\n",
              "  </svg>\n",
              "    </button>\n",
              "\n",
              "  <style>\n",
              "    .colab-df-container {\n",
              "      display:flex;\n",
              "      gap: 12px;\n",
              "    }\n",
              "\n",
              "    .colab-df-convert {\n",
              "      background-color: #E8F0FE;\n",
              "      border: none;\n",
              "      border-radius: 50%;\n",
              "      cursor: pointer;\n",
              "      display: none;\n",
              "      fill: #1967D2;\n",
              "      height: 32px;\n",
              "      padding: 0 0 0 0;\n",
              "      width: 32px;\n",
              "    }\n",
              "\n",
              "    .colab-df-convert:hover {\n",
              "      background-color: #E2EBFA;\n",
              "      box-shadow: 0px 1px 2px rgba(60, 64, 67, 0.3), 0px 1px 3px 1px rgba(60, 64, 67, 0.15);\n",
              "      fill: #174EA6;\n",
              "    }\n",
              "\n",
              "    .colab-df-buttons div {\n",
              "      margin-bottom: 4px;\n",
              "    }\n",
              "\n",
              "    [theme=dark] .colab-df-convert {\n",
              "      background-color: #3B4455;\n",
              "      fill: #D2E3FC;\n",
              "    }\n",
              "\n",
              "    [theme=dark] .colab-df-convert:hover {\n",
              "      background-color: #434B5C;\n",
              "      box-shadow: 0px 1px 3px 1px rgba(0, 0, 0, 0.15);\n",
              "      filter: drop-shadow(0px 1px 2px rgba(0, 0, 0, 0.3));\n",
              "      fill: #FFFFFF;\n",
              "    }\n",
              "  </style>\n",
              "\n",
              "    <script>\n",
              "      const buttonEl =\n",
              "        document.querySelector('#df-5bb45426-a8f5-48d0-8f43-ae1e6ec17914 button.colab-df-convert');\n",
              "      buttonEl.style.display =\n",
              "        google.colab.kernel.accessAllowed ? 'block' : 'none';\n",
              "\n",
              "      async function convertToInteractive(key) {\n",
              "        const element = document.querySelector('#df-5bb45426-a8f5-48d0-8f43-ae1e6ec17914');\n",
              "        const dataTable =\n",
              "          await google.colab.kernel.invokeFunction('convertToInteractive',\n",
              "                                                    [key], {});\n",
              "        if (!dataTable) return;\n",
              "\n",
              "        const docLinkHtml = 'Like what you see? Visit the ' +\n",
              "          '<a target=\"_blank\" href=https://colab.research.google.com/notebooks/data_table.ipynb>data table notebook</a>'\n",
              "          + ' to learn more about interactive tables.';\n",
              "        element.innerHTML = '';\n",
              "        dataTable['output_type'] = 'display_data';\n",
              "        await google.colab.output.renderOutput(dataTable, element);\n",
              "        const docLink = document.createElement('div');\n",
              "        docLink.innerHTML = docLinkHtml;\n",
              "        element.appendChild(docLink);\n",
              "      }\n",
              "    </script>\n",
              "  </div>\n",
              "\n",
              "\n",
              "<div id=\"df-4c6453a8-241f-4a2d-9e38-cb9decca1c81\">\n",
              "  <button class=\"colab-df-quickchart\" onclick=\"quickchart('df-4c6453a8-241f-4a2d-9e38-cb9decca1c81')\"\n",
              "            title=\"Suggest charts.\"\n",
              "            style=\"display:none;\">\n",
              "\n",
              "<svg xmlns=\"http://www.w3.org/2000/svg\" height=\"24px\"viewBox=\"0 0 24 24\"\n",
              "     width=\"24px\">\n",
              "    <g>\n",
              "        <path d=\"M19 3H5c-1.1 0-2 .9-2 2v14c0 1.1.9 2 2 2h14c1.1 0 2-.9 2-2V5c0-1.1-.9-2-2-2zM9 17H7v-7h2v7zm4 0h-2V7h2v10zm4 0h-2v-4h2v4z\"/>\n",
              "    </g>\n",
              "</svg>\n",
              "  </button>\n",
              "\n",
              "<style>\n",
              "  .colab-df-quickchart {\n",
              "      --bg-color: #E8F0FE;\n",
              "      --fill-color: #1967D2;\n",
              "      --hover-bg-color: #E2EBFA;\n",
              "      --hover-fill-color: #174EA6;\n",
              "      --disabled-fill-color: #AAA;\n",
              "      --disabled-bg-color: #DDD;\n",
              "  }\n",
              "\n",
              "  [theme=dark] .colab-df-quickchart {\n",
              "      --bg-color: #3B4455;\n",
              "      --fill-color: #D2E3FC;\n",
              "      --hover-bg-color: #434B5C;\n",
              "      --hover-fill-color: #FFFFFF;\n",
              "      --disabled-bg-color: #3B4455;\n",
              "      --disabled-fill-color: #666;\n",
              "  }\n",
              "\n",
              "  .colab-df-quickchart {\n",
              "    background-color: var(--bg-color);\n",
              "    border: none;\n",
              "    border-radius: 50%;\n",
              "    cursor: pointer;\n",
              "    display: none;\n",
              "    fill: var(--fill-color);\n",
              "    height: 32px;\n",
              "    padding: 0;\n",
              "    width: 32px;\n",
              "  }\n",
              "\n",
              "  .colab-df-quickchart:hover {\n",
              "    background-color: var(--hover-bg-color);\n",
              "    box-shadow: 0 1px 2px rgba(60, 64, 67, 0.3), 0 1px 3px 1px rgba(60, 64, 67, 0.15);\n",
              "    fill: var(--button-hover-fill-color);\n",
              "  }\n",
              "\n",
              "  .colab-df-quickchart-complete:disabled,\n",
              "  .colab-df-quickchart-complete:disabled:hover {\n",
              "    background-color: var(--disabled-bg-color);\n",
              "    fill: var(--disabled-fill-color);\n",
              "    box-shadow: none;\n",
              "  }\n",
              "\n",
              "  .colab-df-spinner {\n",
              "    border: 2px solid var(--fill-color);\n",
              "    border-color: transparent;\n",
              "    border-bottom-color: var(--fill-color);\n",
              "    animation:\n",
              "      spin 1s steps(1) infinite;\n",
              "  }\n",
              "\n",
              "  @keyframes spin {\n",
              "    0% {\n",
              "      border-color: transparent;\n",
              "      border-bottom-color: var(--fill-color);\n",
              "      border-left-color: var(--fill-color);\n",
              "    }\n",
              "    20% {\n",
              "      border-color: transparent;\n",
              "      border-left-color: var(--fill-color);\n",
              "      border-top-color: var(--fill-color);\n",
              "    }\n",
              "    30% {\n",
              "      border-color: transparent;\n",
              "      border-left-color: var(--fill-color);\n",
              "      border-top-color: var(--fill-color);\n",
              "      border-right-color: var(--fill-color);\n",
              "    }\n",
              "    40% {\n",
              "      border-color: transparent;\n",
              "      border-right-color: var(--fill-color);\n",
              "      border-top-color: var(--fill-color);\n",
              "    }\n",
              "    60% {\n",
              "      border-color: transparent;\n",
              "      border-right-color: var(--fill-color);\n",
              "    }\n",
              "    80% {\n",
              "      border-color: transparent;\n",
              "      border-right-color: var(--fill-color);\n",
              "      border-bottom-color: var(--fill-color);\n",
              "    }\n",
              "    90% {\n",
              "      border-color: transparent;\n",
              "      border-bottom-color: var(--fill-color);\n",
              "    }\n",
              "  }\n",
              "</style>\n",
              "\n",
              "  <script>\n",
              "    async function quickchart(key) {\n",
              "      const quickchartButtonEl =\n",
              "        document.querySelector('#' + key + ' button');\n",
              "      quickchartButtonEl.disabled = true;  // To prevent multiple clicks.\n",
              "      quickchartButtonEl.classList.add('colab-df-spinner');\n",
              "      try {\n",
              "        const charts = await google.colab.kernel.invokeFunction(\n",
              "            'suggestCharts', [key], {});\n",
              "      } catch (error) {\n",
              "        console.error('Error during call to suggestCharts:', error);\n",
              "      }\n",
              "      quickchartButtonEl.classList.remove('colab-df-spinner');\n",
              "      quickchartButtonEl.classList.add('colab-df-quickchart-complete');\n",
              "    }\n",
              "    (() => {\n",
              "      let quickchartButtonEl =\n",
              "        document.querySelector('#df-4c6453a8-241f-4a2d-9e38-cb9decca1c81 button');\n",
              "      quickchartButtonEl.style.display =\n",
              "        google.colab.kernel.accessAllowed ? 'block' : 'none';\n",
              "    })();\n",
              "  </script>\n",
              "</div>\n",
              "    </div>\n",
              "  </div>\n"
            ]
          },
          "metadata": {},
          "execution_count": 5
        }
      ]
    },
    {
      "cell_type": "code",
      "source": [
        "train_set = dataset_train.iloc[:,1:2].values"
      ],
      "metadata": {
        "id": "R5q5KPo9e8l6"
      },
      "execution_count": 6,
      "outputs": []
    },
    {
      "cell_type": "code",
      "source": [
        "type(train_set)"
      ],
      "metadata": {
        "colab": {
          "base_uri": "https://localhost:8080/"
        },
        "id": "8nLKR_frfCaB",
        "outputId": "4f32e827-9c00-4e4a-f0b4-4477d00c5dea"
      },
      "execution_count": 7,
      "outputs": [
        {
          "output_type": "execute_result",
          "data": {
            "text/plain": [
              "numpy.ndarray"
            ]
          },
          "metadata": {},
          "execution_count": 7
        }
      ]
    },
    {
      "cell_type": "code",
      "source": [
        "train_set.shape\n"
      ],
      "metadata": {
        "colab": {
          "base_uri": "https://localhost:8080/"
        },
        "id": "EcrHeXhlfGB_",
        "outputId": "108631bf-ec93-4316-b153-bafe95605fb7"
      },
      "execution_count": 8,
      "outputs": [
        {
          "output_type": "execute_result",
          "data": {
            "text/plain": [
              "(1259, 1)"
            ]
          },
          "metadata": {},
          "execution_count": 8
        }
      ]
    },
    {
      "cell_type": "code",
      "source": [
        "sc = MinMaxScaler(feature_range=(0,1))\n",
        "training_set_scaled = sc.fit_transform(train_set)"
      ],
      "metadata": {
        "id": "RpKTDX8ffIDf"
      },
      "execution_count": 9,
      "outputs": []
    },
    {
      "cell_type": "code",
      "source": [
        "training_set_scaled.shape"
      ],
      "metadata": {
        "colab": {
          "base_uri": "https://localhost:8080/"
        },
        "id": "zX_5rmfLfMN1",
        "outputId": "b0fecd4d-11d7-4816-be65-93287c29ff14"
      },
      "execution_count": 10,
      "outputs": [
        {
          "output_type": "execute_result",
          "data": {
            "text/plain": [
              "(1259, 1)"
            ]
          },
          "metadata": {},
          "execution_count": 10
        }
      ]
    },
    {
      "cell_type": "code",
      "source": [
        "X_train_array = []\n",
        "y_train_array = []\n",
        "for i in range(60, 1259):\n",
        "  X_train_array.append(training_set_scaled[i-60:i,0])\n",
        "  y_train_array.append(training_set_scaled[i,0])\n",
        "X_train, y_train = np.array(X_train_array), np.array(y_train_array)\n",
        "X_train1 = X_train.reshape((X_train.shape[0], X_train.shape[1],1))"
      ],
      "metadata": {
        "id": "TIvL0Q8_fSkY"
      },
      "execution_count": 11,
      "outputs": []
    },
    {
      "cell_type": "code",
      "source": [
        "X_train.shape"
      ],
      "metadata": {
        "colab": {
          "base_uri": "https://localhost:8080/"
        },
        "id": "NUhbn5yQfV_X",
        "outputId": "1ef35571-d552-4ea0-ed15-b4bd0b0fe9b6"
      },
      "execution_count": 12,
      "outputs": [
        {
          "output_type": "execute_result",
          "data": {
            "text/plain": [
              "(1199, 60)"
            ]
          },
          "metadata": {},
          "execution_count": 12
        }
      ]
    },
    {
      "cell_type": "code",
      "source": [
        "length = 60\n",
        "n_features = 1"
      ],
      "metadata": {
        "id": "0fX4fmtqfZnA"
      },
      "execution_count": 13,
      "outputs": []
    },
    {
      "cell_type": "code",
      "source": [
        "model = Sequential()\n",
        "model.add(layers.SimpleRNN(10,input_shape=(60,1)))\n",
        "model.add(layers.Dense(1))\n",
        "model.compile(optimizer='adam', loss='mse')"
      ],
      "metadata": {
        "id": "mTqcSjSnfc_z"
      },
      "execution_count": 14,
      "outputs": []
    },
    {
      "cell_type": "code",
      "source": [
        "model.summary()"
      ],
      "metadata": {
        "colab": {
          "base_uri": "https://localhost:8080/"
        },
        "id": "xd_zM05Mfeyg",
        "outputId": "5058f117-88ea-4871-f8be-9feefe6fd537"
      },
      "execution_count": 15,
      "outputs": [
        {
          "output_type": "stream",
          "name": "stdout",
          "text": [
            "Model: \"sequential\"\n",
            "_________________________________________________________________\n",
            " Layer (type)                Output Shape              Param #   \n",
            "=================================================================\n",
            " simple_rnn (SimpleRNN)      (None, 10)                120       \n",
            "                                                                 \n",
            " dense (Dense)               (None, 1)                 11        \n",
            "                                                                 \n",
            "=================================================================\n",
            "Total params: 131 (524.00 Byte)\n",
            "Trainable params: 131 (524.00 Byte)\n",
            "Non-trainable params: 0 (0.00 Byte)\n",
            "_________________________________________________________________\n"
          ]
        }
      ]
    },
    {
      "cell_type": "code",
      "source": [
        "model.fit(X_train1,y_train,epochs=100, batch_size=32)"
      ],
      "metadata": {
        "colab": {
          "base_uri": "https://localhost:8080/"
        },
        "id": "gF5HcM9ifl7M",
        "outputId": "3ca4c77d-299d-4ecf-8317-f5a9a7c259d9"
      },
      "execution_count": 16,
      "outputs": [
        {
          "output_type": "stream",
          "name": "stdout",
          "text": [
            "Epoch 1/100\n",
            "38/38 [==============================] - 2s 12ms/step - loss: 0.1009\n",
            "Epoch 2/100\n",
            "38/38 [==============================] - 0s 8ms/step - loss: 0.0080\n",
            "Epoch 3/100\n",
            "38/38 [==============================] - 0s 8ms/step - loss: 0.0023\n",
            "Epoch 4/100\n",
            "38/38 [==============================] - 0s 8ms/step - loss: 9.4711e-04\n",
            "Epoch 5/100\n",
            "38/38 [==============================] - 0s 8ms/step - loss: 4.9545e-04\n",
            "Epoch 6/100\n",
            "38/38 [==============================] - 0s 8ms/step - loss: 3.9689e-04\n",
            "Epoch 7/100\n",
            "38/38 [==============================] - 0s 7ms/step - loss: 3.5668e-04\n",
            "Epoch 8/100\n",
            "38/38 [==============================] - 0s 8ms/step - loss: 3.3733e-04\n",
            "Epoch 9/100\n",
            "38/38 [==============================] - 0s 8ms/step - loss: 3.3005e-04\n",
            "Epoch 10/100\n",
            "38/38 [==============================] - 0s 8ms/step - loss: 3.1976e-04\n",
            "Epoch 11/100\n",
            "38/38 [==============================] - 0s 8ms/step - loss: 3.1102e-04\n",
            "Epoch 12/100\n",
            "38/38 [==============================] - 0s 8ms/step - loss: 3.0112e-04\n",
            "Epoch 13/100\n",
            "38/38 [==============================] - 0s 8ms/step - loss: 2.9654e-04\n",
            "Epoch 14/100\n",
            "38/38 [==============================] - 0s 8ms/step - loss: 2.8758e-04\n",
            "Epoch 15/100\n",
            "38/38 [==============================] - 0s 9ms/step - loss: 2.8018e-04\n",
            "Epoch 16/100\n",
            "38/38 [==============================] - 0s 8ms/step - loss: 2.7950e-04\n",
            "Epoch 17/100\n",
            "38/38 [==============================] - 0s 8ms/step - loss: 2.6704e-04\n",
            "Epoch 18/100\n",
            "38/38 [==============================] - 0s 8ms/step - loss: 2.6571e-04\n",
            "Epoch 19/100\n",
            "38/38 [==============================] - 0s 9ms/step - loss: 2.5774e-04\n",
            "Epoch 20/100\n",
            "38/38 [==============================] - 0s 8ms/step - loss: 2.5251e-04\n",
            "Epoch 21/100\n",
            "38/38 [==============================] - 0s 10ms/step - loss: 2.4776e-04\n",
            "Epoch 22/100\n",
            "38/38 [==============================] - 0s 8ms/step - loss: 2.4632e-04\n",
            "Epoch 23/100\n",
            "38/38 [==============================] - 0s 8ms/step - loss: 2.4133e-04\n",
            "Epoch 24/100\n",
            "38/38 [==============================] - 0s 9ms/step - loss: 2.3752e-04\n",
            "Epoch 25/100\n",
            "38/38 [==============================] - 0s 8ms/step - loss: 2.3449e-04\n",
            "Epoch 26/100\n",
            "38/38 [==============================] - 0s 8ms/step - loss: 2.3389e-04\n",
            "Epoch 27/100\n",
            "38/38 [==============================] - 0s 8ms/step - loss: 2.2930e-04\n",
            "Epoch 28/100\n",
            "38/38 [==============================] - 0s 8ms/step - loss: 2.2473e-04\n",
            "Epoch 29/100\n",
            "38/38 [==============================] - 0s 8ms/step - loss: 2.2493e-04\n",
            "Epoch 30/100\n",
            "38/38 [==============================] - 0s 8ms/step - loss: 2.2196e-04\n",
            "Epoch 31/100\n",
            "38/38 [==============================] - 0s 8ms/step - loss: 2.1874e-04\n",
            "Epoch 32/100\n",
            "38/38 [==============================] - 0s 9ms/step - loss: 2.2045e-04\n",
            "Epoch 33/100\n",
            "38/38 [==============================] - 1s 14ms/step - loss: 2.1690e-04\n",
            "Epoch 34/100\n",
            "38/38 [==============================] - 1s 14ms/step - loss: 2.1321e-04\n",
            "Epoch 35/100\n",
            "38/38 [==============================] - 1s 14ms/step - loss: 2.1280e-04\n",
            "Epoch 36/100\n",
            "38/38 [==============================] - 1s 14ms/step - loss: 2.1258e-04\n",
            "Epoch 37/100\n",
            "38/38 [==============================] - 1s 13ms/step - loss: 2.0796e-04\n",
            "Epoch 38/100\n",
            "38/38 [==============================] - 0s 11ms/step - loss: 2.1165e-04\n",
            "Epoch 39/100\n",
            "38/38 [==============================] - 0s 8ms/step - loss: 2.0712e-04\n",
            "Epoch 40/100\n",
            "38/38 [==============================] - 0s 8ms/step - loss: 2.0675e-04\n",
            "Epoch 41/100\n",
            "38/38 [==============================] - 0s 8ms/step - loss: 2.0408e-04\n",
            "Epoch 42/100\n",
            "38/38 [==============================] - 0s 8ms/step - loss: 2.0295e-04\n",
            "Epoch 43/100\n",
            "38/38 [==============================] - 0s 8ms/step - loss: 2.0432e-04\n",
            "Epoch 44/100\n",
            "38/38 [==============================] - 0s 8ms/step - loss: 2.0251e-04\n",
            "Epoch 45/100\n",
            "38/38 [==============================] - 0s 11ms/step - loss: 2.0483e-04\n",
            "Epoch 46/100\n",
            "38/38 [==============================] - 0s 10ms/step - loss: 2.0444e-04\n",
            "Epoch 47/100\n",
            "38/38 [==============================] - 0s 10ms/step - loss: 1.9935e-04\n",
            "Epoch 48/100\n",
            "38/38 [==============================] - 0s 8ms/step - loss: 1.9879e-04\n",
            "Epoch 49/100\n",
            "38/38 [==============================] - 0s 8ms/step - loss: 1.9738e-04\n",
            "Epoch 50/100\n",
            "38/38 [==============================] - 0s 8ms/step - loss: 1.9842e-04\n",
            "Epoch 51/100\n",
            "38/38 [==============================] - 0s 8ms/step - loss: 1.9820e-04\n",
            "Epoch 52/100\n",
            "38/38 [==============================] - 0s 8ms/step - loss: 1.9268e-04\n",
            "Epoch 53/100\n",
            "38/38 [==============================] - 0s 8ms/step - loss: 1.9657e-04\n",
            "Epoch 54/100\n",
            "38/38 [==============================] - 0s 8ms/step - loss: 2.0074e-04\n",
            "Epoch 55/100\n",
            "38/38 [==============================] - 0s 8ms/step - loss: 1.9606e-04\n",
            "Epoch 56/100\n",
            "38/38 [==============================] - 0s 8ms/step - loss: 1.9299e-04\n",
            "Epoch 57/100\n",
            "38/38 [==============================] - 0s 8ms/step - loss: 1.9082e-04\n",
            "Epoch 58/100\n",
            "38/38 [==============================] - 0s 8ms/step - loss: 1.9474e-04\n",
            "Epoch 59/100\n",
            "38/38 [==============================] - 0s 8ms/step - loss: 2.0038e-04\n",
            "Epoch 60/100\n",
            "38/38 [==============================] - 0s 8ms/step - loss: 1.9192e-04\n",
            "Epoch 61/100\n",
            "38/38 [==============================] - 0s 8ms/step - loss: 1.9509e-04\n",
            "Epoch 62/100\n",
            "38/38 [==============================] - 0s 8ms/step - loss: 1.9447e-04\n",
            "Epoch 63/100\n",
            "38/38 [==============================] - 0s 8ms/step - loss: 1.8792e-04\n",
            "Epoch 64/100\n",
            "38/38 [==============================] - 0s 8ms/step - loss: 1.9177e-04\n",
            "Epoch 65/100\n",
            "38/38 [==============================] - 0s 8ms/step - loss: 1.8665e-04\n",
            "Epoch 66/100\n",
            "38/38 [==============================] - 0s 8ms/step - loss: 1.8549e-04\n",
            "Epoch 67/100\n",
            "38/38 [==============================] - 0s 8ms/step - loss: 1.9795e-04\n",
            "Epoch 68/100\n",
            "38/38 [==============================] - 0s 8ms/step - loss: 1.8551e-04\n",
            "Epoch 69/100\n",
            "38/38 [==============================] - 0s 9ms/step - loss: 1.8504e-04\n",
            "Epoch 70/100\n",
            "38/38 [==============================] - 1s 14ms/step - loss: 1.8412e-04\n",
            "Epoch 71/100\n",
            "38/38 [==============================] - 1s 14ms/step - loss: 1.8511e-04\n",
            "Epoch 72/100\n",
            "38/38 [==============================] - 0s 13ms/step - loss: 1.9193e-04\n",
            "Epoch 73/100\n",
            "38/38 [==============================] - 1s 14ms/step - loss: 1.9159e-04\n",
            "Epoch 74/100\n",
            "38/38 [==============================] - 1s 13ms/step - loss: 1.8339e-04\n",
            "Epoch 75/100\n",
            "38/38 [==============================] - 0s 12ms/step - loss: 1.8661e-04\n",
            "Epoch 76/100\n",
            "38/38 [==============================] - 0s 8ms/step - loss: 1.8489e-04\n",
            "Epoch 77/100\n",
            "38/38 [==============================] - 0s 8ms/step - loss: 1.9836e-04\n",
            "Epoch 78/100\n",
            "38/38 [==============================] - 0s 8ms/step - loss: 1.8658e-04\n",
            "Epoch 79/100\n",
            "38/38 [==============================] - 0s 8ms/step - loss: 1.8425e-04\n",
            "Epoch 80/100\n",
            "38/38 [==============================] - 0s 8ms/step - loss: 1.8242e-04\n",
            "Epoch 81/100\n",
            "38/38 [==============================] - 0s 8ms/step - loss: 1.8199e-04\n",
            "Epoch 82/100\n",
            "38/38 [==============================] - 0s 8ms/step - loss: 1.8204e-04\n",
            "Epoch 83/100\n",
            "38/38 [==============================] - 0s 8ms/step - loss: 1.8492e-04\n",
            "Epoch 84/100\n",
            "38/38 [==============================] - 0s 8ms/step - loss: 1.8115e-04\n",
            "Epoch 85/100\n",
            "38/38 [==============================] - 0s 8ms/step - loss: 1.9403e-04\n",
            "Epoch 86/100\n",
            "38/38 [==============================] - 0s 8ms/step - loss: 1.8614e-04\n",
            "Epoch 87/100\n",
            "38/38 [==============================] - 0s 8ms/step - loss: 1.9045e-04\n",
            "Epoch 88/100\n",
            "38/38 [==============================] - 0s 8ms/step - loss: 1.8453e-04\n",
            "Epoch 89/100\n",
            "38/38 [==============================] - 0s 8ms/step - loss: 1.8838e-04\n",
            "Epoch 90/100\n",
            "38/38 [==============================] - 0s 8ms/step - loss: 1.8691e-04\n",
            "Epoch 91/100\n",
            "38/38 [==============================] - 0s 8ms/step - loss: 1.7997e-04\n",
            "Epoch 92/100\n",
            "38/38 [==============================] - 0s 8ms/step - loss: 1.9507e-04\n",
            "Epoch 93/100\n",
            "38/38 [==============================] - 0s 8ms/step - loss: 1.8000e-04\n",
            "Epoch 94/100\n",
            "38/38 [==============================] - 0s 8ms/step - loss: 2.0045e-04\n",
            "Epoch 95/100\n",
            "38/38 [==============================] - 0s 8ms/step - loss: 1.8716e-04\n",
            "Epoch 96/100\n",
            "38/38 [==============================] - 0s 8ms/step - loss: 1.8442e-04\n",
            "Epoch 97/100\n",
            "38/38 [==============================] - 0s 8ms/step - loss: 2.0445e-04\n",
            "Epoch 98/100\n",
            "38/38 [==============================] - 0s 8ms/step - loss: 1.9509e-04\n",
            "Epoch 99/100\n",
            "38/38 [==============================] - 0s 9ms/step - loss: 1.7952e-04\n",
            "Epoch 100/100\n",
            "38/38 [==============================] - 0s 8ms/step - loss: 1.8654e-04\n"
          ]
        },
        {
          "output_type": "execute_result",
          "data": {
            "text/plain": [
              "<keras.src.callbacks.History at 0x797874c34cd0>"
            ]
          },
          "metadata": {},
          "execution_count": 16
        }
      ]
    },
    {
      "cell_type": "code",
      "source": [
        "dataset_test = pd.read_csv('testset.csv')"
      ],
      "metadata": {
        "id": "TPYJwpAmfyUc"
      },
      "execution_count": 17,
      "outputs": []
    },
    {
      "cell_type": "code",
      "source": [
        "test_set = dataset_test.iloc[:,1:2].values"
      ],
      "metadata": {
        "id": "1uOzJGO0f2qu"
      },
      "execution_count": 18,
      "outputs": []
    },
    {
      "cell_type": "code",
      "source": [
        "test_set.shape"
      ],
      "metadata": {
        "colab": {
          "base_uri": "https://localhost:8080/"
        },
        "id": "qgGXQ--Uf5W8",
        "outputId": "1f81f850-4df7-489a-9b7c-14816cfd01fb"
      },
      "execution_count": 19,
      "outputs": [
        {
          "output_type": "execute_result",
          "data": {
            "text/plain": [
              "(125, 1)"
            ]
          },
          "metadata": {},
          "execution_count": 19
        }
      ]
    },
    {
      "cell_type": "code",
      "source": [
        "dataset_total = pd.concat((dataset_train['Open'],dataset_test['Open']),axis=0)"
      ],
      "metadata": {
        "id": "e_AX1ga_f8YM"
      },
      "execution_count": 20,
      "outputs": []
    },
    {
      "cell_type": "code",
      "source": [
        "inputs = dataset_total.values\n",
        "inputs = inputs.reshape(-1,1)\n",
        "inputs_scaled=sc.transform(inputs)\n",
        "X_test = []\n",
        "for i in range(60,1384):\n",
        "  X_test.append(inputs_scaled[i-60:i,0])\n",
        "X_test = np.array(X_test)\n",
        "X_test = np.reshape(X_test,(X_test.shape[0], X_test.shape[1],1))"
      ],
      "metadata": {
        "id": "w7lO4c0lf_64"
      },
      "execution_count": 21,
      "outputs": []
    },
    {
      "cell_type": "code",
      "source": [
        "X_test.shape"
      ],
      "metadata": {
        "colab": {
          "base_uri": "https://localhost:8080/"
        },
        "id": "HxtL_GoNgDqI",
        "outputId": "e07c2c6e-c637-4376-e020-f2ceb020d60c"
      },
      "execution_count": 22,
      "outputs": [
        {
          "output_type": "execute_result",
          "data": {
            "text/plain": [
              "(1324, 60, 1)"
            ]
          },
          "metadata": {},
          "execution_count": 22
        }
      ]
    },
    {
      "cell_type": "code",
      "source": [
        "predicted_stock_price_scaled = model.predict(X_test)\n",
        "predicted_stock_price = sc.inverse_transform(predicted_stock_price_scaled)"
      ],
      "metadata": {
        "colab": {
          "base_uri": "https://localhost:8080/"
        },
        "id": "0IoqoILigKGi",
        "outputId": "66ddd1d9-41f2-4403-d949-a01094002225"
      },
      "execution_count": 23,
      "outputs": [
        {
          "output_type": "stream",
          "name": "stdout",
          "text": [
            "42/42 [==============================] - 0s 3ms/step\n"
          ]
        }
      ]
    },
    {
      "cell_type": "code",
      "source": [
        "plt.plot(np.arange(0,1384),inputs, color='red', label = 'Test(Real) Google stock price')\n",
        "plt.plot(np.arange(60,1384),predicted_stock_price, color='blue', label = 'Predicted Google stock price')\n",
        "plt.title('Google Stock Price Prediction')\n",
        "plt.xlabel('Time')\n",
        "plt.ylabel('Google Stock Price')\n",
        "plt.legend()\n",
        "plt.show()"
      ],
      "metadata": {
        "colab": {
          "base_uri": "https://localhost:8080/",
          "height": 472
        },
        "id": "1jxPGJJ7gNX2",
        "outputId": "2fa0c283-7763-4490-80b8-71d1ed14f97d"
      },
      "execution_count": 24,
      "outputs": [
        {
          "output_type": "display_data",
          "data": {
            "text/plain": [
              "<Figure size 640x480 with 1 Axes>"
            ],
            "image/png": "[encoded data removed]"
          },
          "metadata": {}
        }
      ]
    }
  ]
}